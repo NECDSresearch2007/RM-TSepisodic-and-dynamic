{
 "cells": [
  {
   "cell_type": "code",
   "execution_count": null,
   "id": "7964964f",
   "metadata": {
    "ExecuteTime": {
     "end_time": "2024-04-19T09:43:17.601999Z",
     "start_time": "2024-04-19T09:43:17.583237Z"
    }
   },
   "outputs": [],
   "source": [
    "#This work © 2024 by NEC Corporation is licensed under Creative Commons Attribution-NonCommercial-NoDerivatives 4.0 International.\n",
    "%matplotlib inline"
   ]
  },
  {
   "cell_type": "code",
   "execution_count": null,
   "id": "5b020f83",
   "metadata": {
    "ExecuteTime": {
     "end_time": "2024-04-19T09:43:17.580424Z",
     "start_time": "2024-04-19T09:43:16.583118Z"
    }
   },
   "outputs": [],
   "source": [
    "from cycler import cycler\n",
    "\n",
    "import numpy as np\n",
    "import matplotlib.pyplot as plt\n",
    "\n",
    "from utils import load, ax_plot_revenue_episodes, get_versions"
   ]
  },
  {
   "cell_type": "code",
   "execution_count": null,
   "id": "ba1c45fe",
   "metadata": {},
   "outputs": [],
   "source": [
    "get_versions()"
   ]
  },
  {
   "cell_type": "markdown",
   "id": "234981d6",
   "metadata": {},
   "source": [
    "## Optimal Total Expected Revenue"
   ]
  },
  {
   "cell_type": "code",
   "execution_count": null,
   "id": "148889fb",
   "metadata": {
    "ExecuteTime": {
     "end_time": "2024-04-19T09:43:18.333479Z",
     "start_time": "2024-04-19T09:43:18.326288Z"
    }
   },
   "outputs": [],
   "source": [
    "  \n",
    "# For the Poisson distribution\n",
    "optimal = np.load(\"poisson_optimal_nm_1000_T_10.npz\")\n",
    "\n",
    "# For the Poisson_v2 distribution\n",
    "#optimal = np.load(\"poisson_v2_optimal_nm_1000_T_10.npz\")"
   ]
  },
  {
   "cell_type": "code",
   "execution_count": null,
   "id": "073be12f",
   "metadata": {},
   "outputs": [],
   "source": [
    "# params for plots\n",
    "labels= ['TS-episodic' ,'TS-dynamic', 'TS-fixed*', 'TS-update*', 'TS-episodic*', 'TS-dynamic*' \n",
    "        ]\n",
    "exceptions =['TS-episodic*','TS-dynamic*' ]\n",
    "xscale = 'log'\n",
    "linetypes = ['-', '-', 'dotted', 'dotted','dashed','dashed']\n",
    "colors = ['#1f77b4','#ff7f0e','#2ca02c', '#ffa2c1', '#1f77b4','#ff7f0e' ]\n",
    "markers = ['d', 'D', 'p', 'H', '*','x']\n",
    "legend_cycle  = cycler('linestyle', ['-', '-', 'dotted', 'dotted','dashed','dashed']) + cycler('color', ['#1f77b4','#ff7f0e','#2ca02c', '#ffa2c1', '#1f77b4','#ff7f0e' ]) + cycler('marker', ['d', 'D', 'p', 'H', '*','x'])"
   ]
  },
  {
   "cell_type": "markdown",
   "id": "e09d3149",
   "metadata": {},
   "source": [
    "# Prior GP Results"
   ]
  },
  {
   "cell_type": "markdown",
   "id": "c4bbcb89",
   "metadata": {},
   "source": [
    "## TS-espisodic"
   ]
  },
  {
   "cell_type": "code",
   "execution_count": null,
   "id": "fd82f4ad",
   "metadata": {
    "ExecuteTime": {
     "end_time": "2024-04-19T04:11:05.204396Z",
     "start_time": "2024-04-19T04:11:05.159786Z"
    }
   },
   "outputs": [],
   "source": [
    "# Set the file path of the results.\n",
    "\n",
    "#n_0=1000\n",
    "GPresults_n_episodes_1 = load(\"data/gp_n1000_LPE_T10.0.pickle\")\n",
    "\n",
    "#n_0 = 50\n",
    "GPresults_n_episodes_2 = load(\"data/gp_n50_LPE_T10.0.pickle\")\n"
   ]
  },
  {
   "cell_type": "markdown",
   "id": "a3afab85",
   "metadata": {},
   "source": [
    "## TS-Dynamic"
   ]
  },
  {
   "cell_type": "code",
   "execution_count": null,
   "id": "f8efc926",
   "metadata": {
    "ExecuteTime": {
     "end_time": "2024-04-18T02:29:27.287904Z",
     "start_time": "2024-04-18T02:29:27.122109Z"
    }
   },
   "outputs": [],
   "source": [
    "# Set the file path of the results.\n",
    "#n_0 =1000\n",
    "GPresults2_n_episodes_1 = load('data/gp_n1000_LPD_T10.0.pickle')\n",
    "\n",
    "#n_0 =50\n",
    "GPresults2_n_episodes_2= load('data/gp_n50_LPD_T10.0.pickle')\n"
   ]
  },
  {
   "cell_type": "markdown",
   "id": "e79ee572",
   "metadata": {},
   "source": [
    "## Fixed*"
   ]
  },
  {
   "cell_type": "code",
   "execution_count": null,
   "id": "a934badf",
   "metadata": {
    "ExecuteTime": {
     "end_time": "2024-04-18T02:29:38.664968Z",
     "start_time": "2024-04-18T02:29:37.036913Z"
    }
   },
   "outputs": [],
   "source": [
    "# Set the file path of the results.\n",
    "#n_0 =1000\n",
    "GPresults_n_episodes_1_f = load(\"data/gp_n1000_TSF_T10.0.pickle\")\n",
    "\n",
    "#n_0 =50\n",
    "GPresults_n_episodes_2_f = load(\"data/gp_n1000_TSF_T10.0.pickle\") "
   ]
  },
  {
   "cell_type": "markdown",
   "id": "8dab0084",
   "metadata": {},
   "source": [
    "## Updated*"
   ]
  },
  {
   "cell_type": "code",
   "execution_count": null,
   "id": "9169d0c1",
   "metadata": {
    "ExecuteTime": {
     "end_time": "2024-04-18T02:29:40.466658Z",
     "start_time": "2024-04-18T02:29:38.667069Z"
    }
   },
   "outputs": [],
   "source": [
    "# Set the file path of the results.\n",
    "#n_0 =1000\n",
    "GPresults_n_episodes_1_u = load(\"data/gp_n50_TSU_T10.0.pickle\")\n",
    "\n",
    "#n_0 =50\n",
    "GPresults_n_episodes_2_u = load(\"data/gp_n1000_n50_TSU_T10.0.pickle\")"
   ]
  },
  {
   "cell_type": "markdown",
   "id": "61c17a00",
   "metadata": {},
   "source": [
    "## TS-episodic*"
   ]
  },
  {
   "cell_type": "code",
   "execution_count": null,
   "id": "eacddce0",
   "metadata": {},
   "outputs": [],
   "source": [
    "# Set the file path of the results.\n",
    "#n_0 =1000\n",
    "results_n_episodes_1_t = load('data/n1000_LPE*_T10.0.pickle')\n",
    "\n",
    "#n_0 =50\n",
    "results_n_episodes_2_t = load('data/n50_LPE*_T10.0.pickle')"
   ]
  },
  {
   "cell_type": "markdown",
   "id": "41db922c",
   "metadata": {},
   "source": [
    "## TS-Dynamic* "
   ]
  },
  {
   "cell_type": "code",
   "execution_count": null,
   "id": "b9fc0e84",
   "metadata": {},
   "outputs": [],
   "source": [
    "# Set the file path of the results.\n",
    "#n_0 =1000\n",
    "results2_n_episodes_1_t = load('data/n1000_LPD*_T10.0.pickle')\n",
    "\n",
    "#n_0 =50\n",
    "results2_n_episodes_2_t = load('data/n50_LPD*_T10.0.pickle')"
   ]
  },
  {
   "cell_type": "markdown",
   "id": "204e8715",
   "metadata": {},
   "source": [
    "## Plot"
   ]
  },
  {
   "cell_type": "code",
   "execution_count": null,
   "id": "ccad1726",
   "metadata": {
    "ExecuteTime": {
     "end_time": "2024-04-18T02:29:41.624743Z",
     "start_time": "2024-04-18T02:29:40.476054Z"
    }
   },
   "outputs": [],
   "source": [
    "fig = plt.figure(figsize=(16,9), dpi=500)\n",
    "ax = fig.add_subplot(111)\n",
    "\n",
    "l_1 = [GPresults_n_episodes_1['repeated_history'],\n",
    "     GPresults2_n_episodes_1['repeated_history'],\n",
    "    GPresults_n_episodes_1_f['repeated_history'],\n",
    "     GPresults_n_episodes_1_u['repeated_history'],\n",
    "    results_n_episodes_1_t['repeated_history'],\n",
    "     results2_n_episodes_1_t['repeated_history'],\n",
    "     ]\n",
    "mark_points = [0, 9, 99, 199]\n",
    "file_save={True:'regret_algorithms_vs_benches_n1000_GP_v2'}\n",
    "ax, line_list = ax_plot_revenue_episodes(ax, l_1, optimal['arr_0'][1000,-1], labels, exceptions,  mark_points, colors, markers, linetypes,\n",
    "                            title =  r'(A1) $n_0=1000$, prior GP', cum=True, xscale=xscale)\n",
    "fig.legend()\n",
    "fig.show()"
   ]
  },
  {
   "cell_type": "code",
   "execution_count": null,
   "id": "2c17f6c5",
   "metadata": {
    "ExecuteTime": {
     "end_time": "2024-04-18T02:29:47.908731Z",
     "start_time": "2024-04-18T02:29:44.855692Z"
    }
   },
   "outputs": [],
   "source": [
    "fig = plt.figure(figsize=(16,9), dpi=500)\n",
    "ax = fig.add_subplot(111)\n",
    "\n",
    "l_2 = [GPresults_n_episodes_2['repeated_history'],\n",
    "     GPresults2_n_episodes_2['repeated_history'],\n",
    "    GPresults_n_episodes_2_f['repeated_history'],\n",
    "     GPresults_n_episodes_2_u['repeated_history'],\n",
    "    results_n_episodes_2_t['repeated_history'],\n",
    "    results2_n_episodes_2_t['repeated_history'],\n",
    "     ]\n",
    "mark_points = [0, 9, 99, 199]\n",
    "ax, line_list = ax_plot_revenue_episodes(ax, l_2, optimal['arr_0'][50,-1], labels, exceptions,  mark_points, colors, markers, linetypes,\n",
    "                            title =  r'(A1) $n_0=50$, prior GP', cum=True, xscale=xscale)\n",
    "fig.legend()\n",
    "fig.show()"
   ]
  },
  {
   "cell_type": "markdown",
   "id": "c7f8c896",
   "metadata": {},
   "source": [
    "# Gamma results"
   ]
  },
  {
   "cell_type": "markdown",
   "id": "1b4253dc",
   "metadata": {},
   "source": [
    "## TS-episodic"
   ]
  },
  {
   "cell_type": "code",
   "execution_count": null,
   "id": "fd9f5c71",
   "metadata": {
    "ExecuteTime": {
     "end_time": "2024-04-19T06:46:28.715317Z",
     "start_time": "2024-04-19T06:45:57.688172Z"
    }
   },
   "outputs": [],
   "source": [
    "# Set the file path of the results.\n",
    "# n_0 = 10000\n",
    "Garesults_n_episodes_1 = load(\"data/gamma_n1000_LPE_T10.0.pickle\")\n",
    "# n_0 = 50\n",
    "Garesults_n_episodes_2 = load(\"data/gamma_n50_LPE_T10.0.pickle\")"
   ]
  },
  {
   "cell_type": "markdown",
   "id": "9c81deef",
   "metadata": {},
   "source": [
    "## TS-dynamic"
   ]
  },
  {
   "cell_type": "code",
   "execution_count": null,
   "id": "c1fe514e",
   "metadata": {
    "ExecuteTime": {
     "end_time": "2024-04-19T06:48:16.518508Z",
     "start_time": "2024-04-19T06:46:32.180464Z"
    }
   },
   "outputs": [],
   "source": [
    "# Set the file path of the results.\n",
    "# n_0 = 1000\n",
    "Garesults2_n_episodes_1 = load(\"data/gamma_n1000_LPD_T10.0.pickle\")\n",
    "# n_0 = 50\n",
    "Garesults2_n_episodes_2 = load(\"data/gamma_n50_LPD_T10.0.pickle\")"
   ]
  },
  {
   "cell_type": "markdown",
   "id": "9c9d198b",
   "metadata": {},
   "source": [
    "## Fixed*"
   ]
  },
  {
   "cell_type": "code",
   "execution_count": null,
   "id": "a0452c92",
   "metadata": {
    "ExecuteTime": {
     "end_time": "2024-04-19T06:48:41.748392Z",
     "start_time": "2024-04-19T06:48:16.543571Z"
    }
   },
   "outputs": [],
   "source": [
    "# Set the file path of the results.\n",
    "#n_0=1000\n",
    "GaresultsF_n_episodes_1 = load(\"data/gamma_n1000_TSF_T10.0.pickle\")\n",
    "#n_0 = 50\n",
    "GaresultsF_n_episodes_2 = load(\"data/gamma_n50_TSF_T10.0.pickle\")"
   ]
  },
  {
   "cell_type": "markdown",
   "id": "5a8eff9c",
   "metadata": {},
   "source": [
    "## Updated*"
   ]
  },
  {
   "cell_type": "code",
   "execution_count": null,
   "id": "52b0da04",
   "metadata": {
    "ExecuteTime": {
     "end_time": "2024-04-19T06:53:23.625094Z",
     "start_time": "2024-04-19T06:52:40.975992Z"
    }
   },
   "outputs": [],
   "source": [
    "# Set the file path of the results.\n",
    "#n_0 = 1000\n",
    "GaresultsU_n_episodes_1 = load(\"data/gamma_n1000_TSU_T10.0.pickle\")\n",
    "#n_0 = 50\n",
    "GaresultsU_n_episodes_2 = load('data/gamma_n50_TSU_T10.0.pickle')"
   ]
  },
  {
   "cell_type": "markdown",
   "id": "e51083d1",
   "metadata": {},
   "source": [
    "## Plot"
   ]
  },
  {
   "cell_type": "code",
   "execution_count": null,
   "id": "34d5caed",
   "metadata": {
    "ExecuteTime": {
     "end_time": "2024-04-19T04:25:18.972770Z",
     "start_time": "2024-04-19T04:25:12.002110Z"
    }
   },
   "outputs": [],
   "source": [
    "fig = plt.figure(figsize=(16,9), dpi=500)\n",
    "ax = fig.add_subplot(111)\n",
    "\n",
    "l_3 = [Garesults_n_episodes_1['repeated_history'],\n",
    "     Garesults2_n_episodes_1['repeated_history'],\n",
    "    GaresultsF_n_episodes_1['repeated_history'],\n",
    "     GaresultsU_n_episodes_1['repeated_history'],\n",
    "    results_n_episodes_1_t['repeated_history'],\n",
    "     results2_n_episodes_1_t['repeated_history'],\n",
    "     ]\n",
    "mark_points = [0, 9, 99, 999,4999]\n",
    "ax, line_list = ax_plot_revenue_episodes(ax, l_3, optimal['arr_0'][1000,-1], labels, exceptions,  mark_points, colors, markers, linetypes,\n",
    "                            title =  r'(A1) $n_0={}$, prior GP'.format(Garesults_n_episodes_1['n_t0']), cum=True, xscale=xscale)\n",
    "fig.legend()\n",
    "fig.show()"
   ]
  },
  {
   "cell_type": "code",
   "execution_count": null,
   "id": "cfdd3048",
   "metadata": {
    "ExecuteTime": {
     "end_time": "2024-04-19T07:08:21.260222Z",
     "start_time": "2024-04-19T07:08:17.792577Z"
    }
   },
   "outputs": [],
   "source": [
    "fig = plt.figure(figsize=(16,9), dpi=500)\n",
    "ax = fig.add_subplot(111)\n",
    "\n",
    "l_4 = [Garesults_n_episodes_2['repeated_history'],\n",
    "     Garesults2_n_episodes_2['repeated_history'],\n",
    "    GaresultsF_n_episodes_2['repeated_history'],\n",
    "     GaresultsU_n_episodes_2['repeated_history'],\n",
    "    results_n_episodes_2_t['repeated_history'],\n",
    "     results2_n_episodes_2_t['repeated_history'],\n",
    "     ]\n",
    "mark_points = [0, 9, 99, 999,4999]\n",
    "ax, line_list = ax_plot_revenue_episodes(ax, l_4, optimal['arr_0'][50,-1], labels, exceptions,  mark_points, colors, markers, linetypes,\n",
    "                            title =  r'(A1) $n_0=50$, prior GP', cum=True, xscale=xscale)\n",
    "fig.legend()\n",
    "fig.show()"
   ]
  },
  {
   "cell_type": "markdown",
   "id": "90ab5c14",
   "metadata": {},
   "source": [
    "# Unite the Images"
   ]
  },
  {
   "cell_type": "code",
   "execution_count": null,
   "id": "4848f2f9",
   "metadata": {
    "ExecuteTime": {
     "end_time": "2024-01-07T11:37:36.175181Z",
     "start_time": "2024-01-07T11:37:30.900602Z"
    }
   },
   "outputs": [],
   "source": [
    "l_l = [l_2, l_1,l_4, l_3]\n",
    "fig, axes = plt.subplots(1,4, sharey=False, sharex=False, figsize=(30,5.2))\n",
    "plt.subplots_adjust(wspace=0.06, hspace=0.4)\n",
    "axes = axes.flatten()\n",
    "opt_dic = {1: optimal['arr_0'][1000,-1], \n",
    "           0:optimal['arr_0'][50,-1]\n",
    "          }\n",
    "mark_points_dic = {0:[0, 9, 99, 199]  ,1:[0, 9, 99, 999, 4999]}\n",
    "slice_dic = {0: slice(0, 200), 1: slice(0,5000)} \n",
    "\n",
    "labels= ['TS-episodic' ,'TS-dynamic', 'TS-fixed*', 'TS-update*',\n",
    "         'TS-episodic*', 'TS-dynamic*' \n",
    "        ]\n",
    "exceptions =['TS-episodic*','TS-dynamic*' ]\n",
    "title_ = [ '(A1) ' + r'$n_0=50$, GP Prior', '(A2) ' \n",
    "          + r'$n_0=1000$, GP Prior', '(B1) ' + r'$n_0=50$, Independent Prior', '(B2) ' + r'$n_0=1000$, Independent Prior'\n",
    "         ]\n",
    "for i, item in enumerate(l_l):\n",
    "    mod_2 = i % 2\n",
    "    div_2 = i // 2\n",
    "    axes[i], line_list = ax_plot_revenue_episodes(axes[i], item, opt_dic[mod_2], labels, exceptions, \n",
    "                                                  mark_points_dic[div_2], colors, markers, linetypes,\n",
    "                                       title = title_[i], episode_slice=slice_dic[div_2], cum=True, xscale=xscale)\n",
    "fig.legend(line_list, labels=labels, loc='center', bbox_to_anchor=(0.5, -0.1), fontsize=24, ncol=6,columnspacing=1.3, handletextpad=1.0, markerscale=1.6, handlelength=3.1, edgecolor='black' )"
   ]
  },
  {
   "cell_type": "markdown",
   "id": "01ee4dbd",
   "metadata": {},
   "source": [
    "## Note: the data structure of experimental results.\n",
    "\n",
    "```\n",
    "loaded_data (such as GPresults_n_episodes_1): dictionary \n",
    "```\n",
    "\n",
    "In particular, the value of dictionary\n",
    "```\n",
    "loaded_data['repeated_history']\n",
    "```\n",
    "includes all the history of the experiment. We can access what happened at $t$ time period on $s$-th episode in $n$-th trials with \n",
    "```\n",
    "loaded_data['repeated_history'][n-1][s-1][t-1]\n",
    "```\n",
    ", which is a dictionary."
   ]
  }
 ],
 "metadata": {
  "kernelspec": {
   "display_name": "Python 3 (ipykernel)",
   "language": "python",
   "name": "python3"
  },
  "language_info": {
   "codemirror_mode": {
    "name": "ipython",
    "version": 3
   },
   "file_extension": ".py",
   "mimetype": "text/x-python",
   "name": "python",
   "nbconvert_exporter": "python",
   "pygments_lexer": "ipython3",
   "version": "3.8.13"
  },
  "latex_envs": {
   "LaTeX_envs_menu_present": true,
   "autoclose": false,
   "autocomplete": true,
   "bibliofile": "biblio.bib",
   "cite_by": "apalike",
   "current_citInitial": 1,
   "eqLabelWithNumbers": true,
   "eqNumInitial": 1,
   "hotkeys": {
    "equation": "Ctrl-E",
    "itemize": "Ctrl-I"
   },
   "labels_anchors": false,
   "latex_user_defs": false,
   "report_style_numbering": false,
   "user_envs_cfg": false
  },
  "toc": {
   "base_numbering": 1,
   "nav_menu": {},
   "number_sections": true,
   "sideBar": true,
   "skip_h1_title": false,
   "title_cell": "Table of Contents",
   "title_sidebar": "Contents",
   "toc_cell": false,
   "toc_position": {},
   "toc_section_display": true,
   "toc_window_display": false
  }
 },
 "nbformat": 4,
 "nbformat_minor": 5
}
